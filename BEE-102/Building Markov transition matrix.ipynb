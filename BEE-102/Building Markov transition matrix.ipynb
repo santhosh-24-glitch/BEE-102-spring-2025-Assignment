{
 "cells": [
  {
   "cell_type": "markdown",
   "metadata": {
    "id": "6XBs38U-XBAW"
   },
   "source": [
    "### Question 2: Building Markov transition matrix\n",
    "You have learned important differences between simple dinucleotide frequency model and Markov models. Your goal is to build one from the input sequence. In the Jupyter notebook, you should print the transition matrix."
   ]
  },
  {
   "cell_type": "code",
   "execution_count": 23,
   "metadata": {
    "id": "xgoHk1wabwDl"
   },
   "outputs": [],
   "source": [
    "# Imports\n",
    "from collections import defaultdict\n",
    "import numpy as np\n",
    "import pandas as pd\n",
    "\n",
    "# Read and flatten the DNA sequence from singleline_output.fasta\n",
    "def read_input(path):\n",
    "    sequence = ''\n",
    "    with open(path, 'r') as f:\n",
    "        for line in f:\n",
    "            if not line.startswith('>'):\n",
    "                sequence += line.strip().upper()\n",
    "    return ''.join([c for c in sequence if c in 'ACGT'])\n",
    "sequence = read_input('singleline_output.fasta')\n",
    "\n",
    "# Build transition counts\n",
    "nucleotides = 'ACGT'\n",
    "transition_counts = defaultdict(lambda: defaultdict(int))\n",
    "\n",
    "for i in range(len(sequence) - 1):\n",
    "    a, b = sequence[i], sequence[i + 1]\n",
    "    transition_counts[a][b] += 1\n",
    "\n",
    "# Convert to normalized transition matrix\n",
    "transition_matrix = np.zeros((4, 4))\n",
    "\n",
    "for i, from_base in enumerate(nucleotides):\n",
    "    total = sum(transition_counts[from_base].values())\n",
    "    if total > 0:\n",
    "        for j, to_base in enumerate(nucleotides):\n",
    "            transition_matrix[i][j] = transition_counts[from_base][to_base] / total"
   ]
  },
  {
   "cell_type": "markdown",
   "metadata": {},
   "source": [
    " ### Properties of transition matrices:\n",
    "      1. tij represents the entry in row i and column j\n",
    "      2. tij = the probability of moving from state represented by row i to the state represented by row j in a single transition.\n",
    "      3. tij is a conditional probability which we can write as tij = P(next state is the state in column j | current state is the state in row i)\n",
    "      4. Each row adds to 1.\n",
    "      5. All entries are between 0 and 1, inclusive because they are probablities.\n",
    "      6. The transition matrix represents change over one transition period."
   ]
  },
  {
   "cell_type": "code",
   "execution_count": 24,
   "metadata": {
    "colab": {
     "base_uri": "https://localhost:8080/"
    },
    "id": "0ZTuei7ngEKk",
    "outputId": "e98855d0-1922-4a3e-af3d-54a088f45337"
   },
   "outputs": [
    {
     "name": "stdout",
     "output_type": "stream",
     "text": [
      "Markov Transition Matrix (rows = from, columns = to):\n",
      "        A       C       G       T\n",
      "A  0.2509  0.2426  0.2648  0.2417\n",
      "C  0.2465  0.2544  0.2449  0.2541\n",
      "G  0.2518  0.2474  0.2556  0.2452\n",
      "T  0.2709  0.2374  0.2502  0.2414\n"
     ]
    }
   ],
   "source": [
    "# Display as Markov Transition Matrix\n",
    "df = pd.DataFrame(transition_matrix, index=list('ACGT'), columns=list('ACGT'))\n",
    "print(\"Markov Transition Matrix (rows = from, columns = to):\")\n",
    "print(df.round(4))"
   ]
  }
 ],
 "metadata": {
  "colab": {
   "provenance": []
  },
  "kernelspec": {
   "display_name": "Python 3 (ipykernel)",
   "language": "python",
   "name": "python3"
  },
  "language_info": {
   "codemirror_mode": {
    "name": "ipython",
    "version": 3
   },
   "file_extension": ".py",
   "mimetype": "text/x-python",
   "name": "python",
   "nbconvert_exporter": "python",
   "pygments_lexer": "ipython3",
   "version": "3.13.1"
  }
 },
 "nbformat": 4,
 "nbformat_minor": 4
}
