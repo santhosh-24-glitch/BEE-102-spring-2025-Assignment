{
 "cells": [
  {
   "cell_type": "markdown",
   "metadata": {
    "id": "6XBs38U-XBAW"
   },
   "source": [
    "### Question 3: \n",
    "Multi-line sequence fasta to single-line fasta file\n"
   ]
  },
  {
   "cell_type": "code",
   "execution_count": 2,
   "metadata": {
    "id": "xgoHk1wabwDl"
   },
   "outputs": [],
   "source": [
    "input_path = 'multiline_input.fasta'\n",
    "output_path = 'singleline_output.fasta'\n",
    "\n",
    "with open(input_path, 'r') as infile, open(output_path, 'w') as outfile:\n",
    "    for l in infile:\n",
    "        l = l.rstrip()\n",
    "        if l.startswith('>'):\n",
    "            if 'seq' in locals():  \n",
    "                # write previous sequence before starting a new one\n",
    "                outfile.write(seq + '\\n')\n",
    "            outfile.write(l + '\\n')\n",
    "            seq = ''\n",
    "        else:\n",
    "            seq += l\n",
    "    # Write the last sequence\n",
    "    if 'seq' in locals():\n",
    "        outfile.write(seq + '\\n')"
   ]
  },
  {
   "cell_type": "code",
   "execution_count": null,
   "metadata": {
    "id": "bNB11N6dehzp"
   },
   "outputs": [],
   "source": []
  }
 ],
 "metadata": {
  "colab": {
   "provenance": []
  },
  "kernelspec": {
   "display_name": "Python 3 (ipykernel)",
   "language": "python",
   "name": "python3"
  },
  "language_info": {
   "codemirror_mode": {
    "name": "ipython",
    "version": 3
   },
   "file_extension": ".py",
   "mimetype": "text/x-python",
   "name": "python",
   "nbconvert_exporter": "python",
   "pygments_lexer": "ipython3",
   "version": "3.13.1"
  }
 },
 "nbformat": 4,
 "nbformat_minor": 4
}
