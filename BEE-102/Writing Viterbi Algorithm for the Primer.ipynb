{
 "cells": [
  {
   "cell_type": "markdown",
   "metadata": {
    "id": "6XBs38U-XBAW"
   },
   "source": [
    "# Question: Writing Viterbi Algorithm for the Primer\n",
    "Write the Viterbi algorithm to implment Nature Primer.\n",
    "\n",
    "Here are some suggestions:\n",
    "\n",
    "a. You can begin by first defining all the parameters, such as states, transition matrix, and emmision matrix etc.\n",
    "\n",
    "b. You can write a function to exactly calculate the values mentioned in the primer, for example, you can define a function get_log_prob_of_a_given_path (\"EEEEEEEEEEEEEEEEEE5IIIIIII\", \"CTTCATGTGAAAGCAGACGTAAGTCA\"). This should output -41.22.\n",
    "\n",
    "By doing the above two, you earn 1 mark.\n",
    "\n",
    "Now, you have to implement this in real to get max likely path that would emmit the observed sequence. You MUST note that maximum likely path will just be Es, but that is okay. Implementation is the key."
   ]
  },
  {
   "cell_type": "code",
   "execution_count": 2,
   "metadata": {
    "id": "p6OVuvwzgH5x"
   },
   "outputs": [],
   "source": [
    "# Imports\n",
    "import numpy as np\n",
    "import math"
   ]
  },
  {
   "cell_type": "code",
   "execution_count": 24,
   "metadata": {
    "id": "kEaWjkSghhTM"
   },
   "outputs": [],
   "source": [
    "# Define states, emissions, and transitions\n",
    "states = ['E', 'I']\n",
    "observations = ['A', 'C', 'G', 'T']\n",
    "# Transition log probabilities\n",
    "transitions = {\n",
    "    'E': {'E': math.log(0.9), 'I': math.log(0.1)},\n",
    "    'I': {'E': math.log(0.1), 'I': math.log(0.9)}\n",
    "}\n",
    "\n",
    "# Emission log probabilities\n",
    "emissions = {\n",
    "    'E': {'A': math.log(0.25), 'C': math.log(0.25), 'G': math.log(0.25), 'T': math.log(0.25)},\n",
    "    'I': {'A': math.log(0.4),  'C': math.log(0.1),  'G': math.log(0.1),  'T': math.log(0.4)}\n",
    "}\n",
    "\n",
    "# Log-probability of a known path and sequence\n",
    "def log_prob_of_path(state_path, observations):\n",
    "    assert len(state_path) == len(observations)\n",
    "    log_prob = emissions[state_path[0]][observations[0]]\n",
    "    \n",
    "    for i in range(1, len(state_path)):\n",
    "        prev_state, curr_state = state_path[i-1], state_path[i]\n",
    "        transition_score = transitions[prev_state][curr_state]\n",
    "        emission_score = emissions[curr_state][observations[i]]\n",
    "        log_prob += transition_score + emission_score\n",
    "    \n",
    "    return log_prob\n",
    "\n",
    "    \n",
    "#  Viterbi algorithm to find most likely state path\n",
    "def viterbi_decode(observations):\n",
    "    sequence_length = len(observations)\n",
    "    dp_table = [{} for _ in range(sequence_length)]\n",
    "    back_ptr = [{} for _ in range(sequence_length)]\n",
    "\n",
    "    # Initialization\n",
    "    for state in states:\n",
    "        dp_table[0][state] = emissions[state][observations[0]]\n",
    "        back_ptr[0][state] = None\n",
    "\n",
    "    # Dynamic programming loop\n",
    "    for t in range(1, sequence_length):\n",
    "        for curr_state in states:\n",
    "            max_score, best_prev = max(\n",
    "                (\n",
    "                    dp_table[t-1][prev_state] + transitions[prev_state][curr_state] + emissions[curr_state][observations[t]],\n",
    "                    prev_state\n",
    "                )\n",
    "                for prev_state in states\n",
    "            )\n",
    "            dp_table[t][curr_state] = max_score\n",
    "            back_ptr[t][curr_state] = best_prev\n",
    "\n",
    "    # Reconstruct the best path\n",
    "    last_state = max(dp_table[-1], key=dp_table[-1].get)\n",
    "    best_path = [last_state]\n",
    "\n",
    "    for t in range(sequence_length - 1, 0, -1):\n",
    "        last_state = back_ptr[t][last_state]\n",
    "        best_path.append(last_state)\n",
    "\n",
    "    return ''.join(reversed(best_path))\n"
   ]
  },
  {
   "cell_type": "code",
   "execution_count": 25,
   "metadata": {},
   "outputs": [
    {
     "data": {
      "text/plain": [
       "-41.27374490729283"
      ]
     },
     "execution_count": 25,
     "metadata": {},
     "output_type": "execute_result"
    }
   ],
   "source": [
    "get_log_prob_of_a_given_path(\"EEEEEEEEEEEEEEEEEEIIIIIIII\",\"CTTCATGTGAAAGCAGACGTAAGTCA\")"
   ]
  },
  {
   "cell_type": "code",
   "execution_count": 26,
   "metadata": {
    "colab": {
     "base_uri": "https://localhost:8080/"
    },
    "id": "KrK_glGKom2_",
    "outputId": "45624508-7e1c-4a87-a97f-8dd23652a6d9"
   },
   "outputs": [
    {
     "name": "stdout",
     "output_type": "stream",
     "text": [
      "Most likely state path:\n",
      "EEEEEEEEEEEEEEEEEEEEEEEEEE\n"
     ]
    }
   ],
   "source": [
    "# Testing on sequence\n",
    "obs_seq = \"CTTCATGTGAAAGCAGACGTAAGTCA\"\n",
    "most_likely_path = viterbi(obs_seq)\n",
    "print(\"Most likely state path:\")\n",
    "print(most_likely_path)"
   ]
  },
  {
   "cell_type": "code",
   "execution_count": null,
   "metadata": {},
   "outputs": [],
   "source": []
  }
 ],
 "metadata": {
  "colab": {
   "provenance": []
  },
  "kernelspec": {
   "display_name": "Python 3 (ipykernel)",
   "language": "python",
   "name": "python3"
  },
  "language_info": {
   "codemirror_mode": {
    "name": "ipython",
    "version": 3
   },
   "file_extension": ".py",
   "mimetype": "text/x-python",
   "name": "python",
   "nbconvert_exporter": "python",
   "pygments_lexer": "ipython3",
   "version": "3.13.1"
  }
 },
 "nbformat": 4,
 "nbformat_minor": 4
}
