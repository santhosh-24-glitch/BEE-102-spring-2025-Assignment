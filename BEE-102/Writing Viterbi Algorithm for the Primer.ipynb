{
 "cells": [
  {
   "cell_type": "markdown",
   "metadata": {
    "id": "6XBs38U-XBAW"
   },
   "source": [
    "# Question: Writing Viterbi Algorithm for the Primer\n",
    "Write the Viterbi algorithm to implment Nature Primer.\n",
    "\n",
    "Here are some suggestions:\n",
    "\n",
    "a. You can begin by first defining all the parameters, such as states, transition matrix, and emmision matrix etc.\n",
    "\n",
    "b. You can write a function to exactly calculate the values mentioned in the primer, for example, you can define a function get_log_prob_of_a_given_path (\"EEEEEEEEEEEEEEEEEE5IIIIIII\", \"CTTCATGTGAAAGCAGACGTAAGTCA\"). This should output -41.22.\n",
    "\n",
    "By doing the above two, you earn 1 mark.\n",
    "\n",
    "Now, you have to implement this in real to get max likely path that would emmit the observed sequence. You MUST note that maximum likely path will just be Es, but that is okay. Implementation is the key."
   ]
  },
  {
   "cell_type": "code",
   "execution_count": 1,
   "metadata": {
    "id": "p6OVuvwzgH5x"
   },
   "outputs": [],
   "source": [
    "# Imports\n",
    "import numpy as np\n",
    "import math"
   ]
  },
  {
   "cell_type": "code",
   "execution_count": 5,
   "metadata": {
    "id": "kEaWjkSghhTM"
   },
   "outputs": [
    {
     "name": "stdout",
     "output_type": "stream",
     "text": [
      "maximum likely path:\n",
      "EEEEEEEEEEEEEEE\n"
     ]
    }
   ],
   "source": [
    "# Define states and matrices\n",
    "states = ['E', '5', 'I']\n",
    "\n",
    "# Transition probabilities (log-transformed)\n",
    "trans_probs = {\n",
    "    'E': {'E': math.log(0.9), '5': math.log(0.1), 'I': float('-inf')},\n",
    "    '5': {'E': float('-inf'), '5': float('-inf'), 'I': math.log(1.0)},\n",
    "    'I': {'E': float('-inf'), '5': float('-inf'), 'I': math.log(0.9)}\n",
    "}\n",
    "\n",
    "# Emission probabilities (log-transformed)\n",
    "emit_probs = {\n",
    "    'E': {'A': math.log(0.25), 'C': math.log(0.25), 'G': math.log(0.25), 'T': math.log(0.25)},\n",
    "    '5': {'A': math.log(0.05), 'C': float('-inf'), 'G': math.log(0.95), 'T': float('-inf')},\n",
    "    'I': {'A': math.log(0.4), 'C': math.log(0.1), 'G': math.log(0.1), 'T': math.log(0.4)}\n",
    "}\n",
    "\n",
    "# Input DNA sequence\n",
    "dna_seq = \"AGGCTCTCCATAAGG\"\n",
    "seq_length = len(dna_seq)\n",
    "\n",
    "# Initialize tables for Viterbi algorithm\n",
    "viterbi = [{} for _ in range(seq_length)]\n",
    "backtrack = [{} for _ in range(seq_length)]\n",
    "\n",
    "# Initialize first position\n",
    "for state in states:\n",
    "    viterbi[0][state] = emit_probs[state][dna_seq[0]] if state == 'E' else float('-inf')\n",
    "\n",
    "# Fill Viterbi and backtrack tables\n",
    "for pos in range(1, seq_length):\n",
    "    for curr_state in states:\n",
    "        max_log_prob = float('-inf')\n",
    "        prev_best_state = None\n",
    "        for prev_state in states:\n",
    "            log_prob = (viterbi[pos-1][prev_state] + \n",
    "                       trans_probs[prev_state][curr_state] + \n",
    "                       emit_probs[curr_state][dna_seq[pos]])\n",
    "            if log_prob > max_log_prob:\n",
    "                max_log_prob = log_prob\n",
    "                prev_best_state = prev_state\n",
    "        viterbi[pos][curr_state] = max_log_prob\n",
    "        backtrack[pos][curr_state] = prev_best_state\n",
    "\n",
    "# Backtrack to find the most likely state sequence\n",
    "best_final_prob = float('-inf')\n",
    "best_final_state = None\n",
    "for state in states:\n",
    "    if viterbi[seq_length-1][state] > best_final_prob:\n",
    "        best_final_prob = viterbi[seq_length-1][state]\n",
    "        best_final_state = state\n",
    "\n",
    "# Reconstruct the state path\n",
    "state_path = [best_final_state]\n",
    "current_state = best_final_state\n",
    "for pos in range(seq_length-1, 0, -1):\n",
    "    current_state = backtrack[pos][current_state]\n",
    "    state_path.insert(0, current_state)\n",
    "\n",
    "print(\"maximum likely path:\")\n",
    "# Output the state path\n",
    "print(''.join(state_path))\n"
   ]
  },
  {
   "cell_type": "code",
   "execution_count": 6,
   "metadata": {},
   "outputs": [
    {
     "name": "stdout",
     "output_type": "stream",
     "text": [
      "Log probability of sequence given state path: -41.22\n"
     ]
    }
   ],
   "source": [
    "# Function to compute log likelihood for a given sequence and state path\n",
    "def compute_sequence_log_likelihood(sequence, states):\n",
    "    \"\"\"Computes the log likelihood of a DNA sequence given a state path\"\"\"\n",
    "    if len(sequence) != len(states):\n",
    "        raise ValueError(\"Sequence and state path must have identical lengths\")\n",
    "\n",
    "    log_likelihood = 0.0\n",
    "    for i in range(len(sequence)):\n",
    "        if i == 0:\n",
    "            if states[i] != 'E':\n",
    "                return float('-inf')\n",
    "            log_likelihood = emit_probs[states[i]][sequence[i]]\n",
    "        else:\n",
    "            log_likelihood += (trans_probs[states[i-1]][states[i]] + \n",
    "                              emit_probs[states[i]][sequence[i]])\n",
    "\n",
    "    # Include terminal transition probability\n",
    "    log_likelihood += math.log(0.1)\n",
    "    \n",
    "    return log_likelihood\n",
    "\n",
    "# Test sequence and state path\n",
    "test_seq = \"CTTCATGTGAAAGCAGACGTAAGTCA\"\n",
    "test_states = \"EEEEEEEEEEEEEEEEEE5IIIIIII\"\n",
    "\n",
    "# Compute and print log likelihood\n",
    "likelihood = compute_sequence_log_likelihood(test_seq, test_states)\n",
    "print(f\"Log probability of sequence given state path: {likelihood:.2f}\")"
   ]
  },
  {
   "cell_type": "code",
   "execution_count": null,
   "metadata": {},
   "outputs": [],
   "source": []
  }
 ],
 "metadata": {
  "colab": {
   "provenance": []
  },
  "kernelspec": {
   "display_name": "Python 3 (ipykernel)",
   "language": "python",
   "name": "python3"
  },
  "language_info": {
   "codemirror_mode": {
    "name": "ipython",
    "version": 3
   },
   "file_extension": ".py",
   "mimetype": "text/x-python",
   "name": "python",
   "nbconvert_exporter": "python",
   "pygments_lexer": "ipython3",
   "version": "3.13.1"
  }
 },
 "nbformat": 4,
 "nbformat_minor": 4
}
